{
 "cells": [
  {
   "cell_type": "markdown",
   "id": "d9c803ef",
   "metadata": {},
   "source": [
    "Q.2 write a python program to reverse the word after accepting the input from the user"
   ]
  },
  {
   "cell_type": "code",
   "execution_count": 4,
   "id": "f4f21f76",
   "metadata": {},
   "outputs": [
    {
     "name": "stdout",
     "output_type": "stream",
     "text": [
      "please enter the word which you want to reverse: ineuron\n"
     ]
    },
    {
     "data": {
      "text/plain": [
       "'norueni'"
      ]
     },
     "execution_count": 4,
     "metadata": {},
     "output_type": "execute_result"
    }
   ],
   "source": [
    "a = str(input(\"please enter the word which you want to reverse: \"))\n",
    "a[::-1]"
   ]
  },
  {
   "cell_type": "markdown",
   "id": "ac87946b",
   "metadata": {},
   "source": [
    "Q.1 create a pattern using nested forloops in python"
   ]
  },
  {
   "cell_type": "code",
   "execution_count": 66,
   "id": "b3e850b3",
   "metadata": {},
   "outputs": [
    {
     "name": "stdout",
     "output_type": "stream",
     "text": [
      "* \n",
      "** \n",
      "*** \n",
      "**** \n",
      "***** \n",
      "****\r\n",
      "***\r\n",
      "**\r\n",
      "*\r\n",
      "\r\n"
     ]
    }
   ],
   "source": [
    "n = 5\n",
    "k = n-1\n",
    "\n",
    "for i in range(n):\n",
    "    for j in range(i+1):\n",
    "            print(\"*\", end = \"\")\n",
    "    print(\" \")\n",
    "k = 5\n",
    "for i in range(n):# outer loop which is the no of rows\n",
    "    k = k-1\n",
    "    for j in range(k): # inner loop which is the no of columns\n",
    "        print(\"*\",end = \"\")\n",
    "    print(\"\\r\")"
   ]
  }
 ],
 "metadata": {
  "kernelspec": {
   "display_name": "Python 3",
   "language": "python",
   "name": "python3"
  },
  "language_info": {
   "codemirror_mode": {
    "name": "ipython",
    "version": 3
   },
   "file_extension": ".py",
   "mimetype": "text/x-python",
   "name": "python",
   "nbconvert_exporter": "python",
   "pygments_lexer": "ipython3",
   "version": "3.6.4"
  }
 },
 "nbformat": 4,
 "nbformat_minor": 5
}
